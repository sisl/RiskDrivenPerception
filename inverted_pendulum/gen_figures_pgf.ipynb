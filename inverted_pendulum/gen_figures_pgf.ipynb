{
 "cells": [
  {
   "cell_type": "code",
   "execution_count": 2,
   "metadata": {},
   "outputs": [],
   "source": [
    "using POMDPs, POMDPGym, Crux, Flux, Colors\n",
    "using Distributions, Measures, BSON, Printf, Zygote"
   ]
  },
  {
   "cell_type": "code",
   "execution_count": 70,
   "metadata": {},
   "outputs": [],
   "source": [
    "using GridInterpolations"
   ]
  },
  {
   "cell_type": "code",
   "execution_count": 3,
   "metadata": {},
   "outputs": [],
   "source": [
    "using PGFPlots"
   ]
  },
  {
   "cell_type": "code",
   "execution_count": 73,
   "metadata": {},
   "outputs": [],
   "source": [
    "resetPGFPlotsPreamble()\n",
    "include(\"/home/smkatz/Documents/Util/support_code.jl\");"
   ]
  },
  {
   "cell_type": "markdown",
   "metadata": {},
   "source": [
    "# Example Perception Inputs"
   ]
  },
  {
   "cell_type": "code",
   "execution_count": 15,
   "metadata": {},
   "outputs": [
    {
     "data": {
      "text/plain": [
       "obsfn (generic function with 1 method)"
      ]
     },
     "execution_count": 15,
     "metadata": {},
     "output_type": "execute_result"
    }
   ],
   "source": [
    "obsfn(s) = POMDPGym.simple_render_pendulum(s, dt=0.05, noise=Normal(0, 0.1))"
   ]
  },
  {
   "cell_type": "code",
   "execution_count": 59,
   "metadata": {},
   "outputs": [],
   "source": [
    "im = Float64.(obsfn([0.0, 0.0])[:, :, 1]);"
   ]
  },
  {
   "cell_type": "code",
   "execution_count": 60,
   "metadata": {},
   "outputs": [],
   "source": [
    "ax = Axis(Plots.MatrixPlot(reverse(im, dims=1)), axisEqualImage=true, style=\"xticklabels = {,}, yticklabels = {,}\");"
   ]
  },
  {
   "cell_type": "code",
   "execution_count": 65,
   "metadata": {},
   "outputs": [],
   "source": [
    "#tikzCode(ax)"
   ]
  },
  {
   "cell_type": "code",
   "execution_count": 66,
   "metadata": {},
   "outputs": [],
   "source": [
    "#new_tikz = \"\\\\begin{axis}[\\n  axis equal image = {true},\\n  xticklabels = {,}, yticklabels = {,},\\n  enlargelimits = false,\\n  axis on top,\\n  colormap={wb}{gray(0cm)=(0); gray(1cm)=(1)},\\n  xmin = 0.5,\\n  xmax = 10.5,\\n  ymin = 0.5,\\n  ymax = 18.5\\n]\\n\\n\\\\addplot[\\n  point meta min = 0.0,\\n  point meta max = 1.0,\\n  point meta = explicit,\\n  matrix plot*,\\n  mesh/cols = 10,\\n  mesh/rows = 18\\n] table[\\n  meta = data\\n] {tmp_10000000000020.dat};\\n\\n\\\\end{axis}\""
   ]
  },
  {
   "cell_type": "code",
   "execution_count": 63,
   "metadata": {},
   "outputs": [],
   "source": [
    "ax = PGFPlots.TikzPicture(new_tikz, options=pgfplotsoptions(), preamble=pgfplotspreamble());"
   ]
  },
  {
   "cell_type": "code",
   "execution_count": 64,
   "metadata": {},
   "outputs": [],
   "source": [
    "PGFPlots.save(\"pend_ex_1.pdf\", ax)"
   ]
  },
  {
   "cell_type": "markdown",
   "metadata": {},
   "source": [
    "# Solving for Risk Function"
   ]
  },
  {
   "cell_type": "code",
   "execution_count": 67,
   "metadata": {},
   "outputs": [],
   "source": [
    "include(\"../src/risk_solvers.jl\")\n",
    "include(\"../inverted_pendulum/controllers/rule_based.jl\")\n",
    "include(\"problem_setup.jl\");"
   ]
  },
  {
   "cell_type": "code",
   "execution_count": 71,
   "metadata": {},
   "outputs": [],
   "source": [
    "# Setup\n",
    "env = InvertedPendulumMDP(λcost=0.1f0, failure_thresh=π / 4)\n",
    "simple_policy = FunPolicy(continuous_rule(0.0, 2.0, -1))\n",
    "rmdp, px, θs, ωs, s_grid, 𝒮, s2pt, cost_points, ϵ1s, ϵ2s, ϵ_grid = rmdp_pendulum_setup(env, simple_policy);"
   ]
  },
  {
   "cell_type": "code",
   "execution_count": 72,
   "metadata": {},
   "outputs": [
    {
     "name": "stdout",
     "output_type": "stream",
     "text": [
      " 48.215329 seconds (542.57 M allocations: 25.621 GiB, 10.13% gc time, 3.05% compilation time)\n"
     ]
    }
   ],
   "source": [
    "# Solve for distribution over costs\n",
    "@time Uw, Qw = solve_cvar_fixed_particle(rmdp, px, s_grid, 𝒮, s2pt, cost_points);"
   ]
  },
  {
   "cell_type": "code",
   "execution_count": 74,
   "metadata": {},
   "outputs": [
    {
     "data": {
      "text/plain": [
       "CVaR (generic function with 2 methods)"
      ]
     },
     "execution_count": 74,
     "metadata": {},
     "output_type": "execute_result"
    }
   ],
   "source": [
    "# Create CVaR convenience functions\n",
    "CVaR(s, ϵ, α) = CVaR(s2pt([0.0, s...]), ϵ, s_grid, ϵ_grid, Qw, cost_points; α)"
   ]
  },
  {
   "cell_type": "markdown",
   "metadata": {},
   "source": [
    "# Pendulum CVaR"
   ]
  },
  {
   "cell_type": "markdown",
   "metadata": {},
   "source": [
    "### Varying alpha"
   ]
  },
  {
   "cell_type": "code",
   "execution_count": 91,
   "metadata": {},
   "outputs": [],
   "source": [
    "get_heat(x, y, α) = CVaR([x, y], [0.0, 0.0], α)\n",
    "ax1 = Axis(Plots.Image((x, y) -> get_heat(x, y, 0.0), (-π / 4, π / 4), (-2, 2),\n",
    "    (colormap = pasteljet), colorbar=false))\n",
    "ax1.xlabel = L\"$\\theta$ (rad)\"\n",
    "ax1.ylabel = L\"$\\omega$ (rad/s)\"\n",
    "ax1.height = \"4cm\"\n",
    "ax1.width = \"4cm\"\n",
    "ax1.title = L\"$\\alpha=0.0$\"\n",
    "\n",
    "ax2 = Axis(Plots.Image((x, y) -> get_heat(x, y, 0.5), (-π / 4, π / 4), (-2, 2),\n",
    "    (colormap = pasteljet), colorbar=false))\n",
    "ax2.xlabel = L\"$\\theta$ (rad)\"\n",
    "#ax2.ylabel = L\"$\\omega$ (rad/s)\"\n",
    "ax2.height = \"4cm\"\n",
    "ax2.width = \"4cm\"\n",
    "ax2.style = \"yticklabels = {,}\"\n",
    "ax2.title = L\"$\\alpha=0.5$\"\n",
    "\n",
    "ax3 = Axis(Plots.Image((x, y) -> get_heat(x, y, 0.9), (-π / 4, π / 4), (-2, 2),\n",
    "    (colormap = pasteljet)))\n",
    "ax3.xlabel = L\"$\\theta$ (rad)\"\n",
    "#ax3.ylabel = L\"$\\omega$ (rad/s)\"\n",
    "ax3.height = \"4cm\"\n",
    "ax3.width = \"4cm\"\n",
    "ax3.style = \"yticklabels = {,}\"\n",
    "ax3.title = L\"$\\alpha=0.9$\"\n",
    "\n",
    "g = GroupPlot(3, 1, groupStyle=\"horizontal sep = 0.75cm, vertical sep = 1.5cm\")\n",
    "push!(g, ax1)\n",
    "push!(g, ax2)\n",
    "push!(g, ax3)\n",
    "#PGFPlots.save(\"pendulum_risk_alpha.tex\", g, include_preamble=false);\n",
    "g"
   ]
  },
  {
   "cell_type": "code",
   "execution_count": 96,
   "metadata": {},
   "outputs": [
    {
     "data": {
      "text/plain": [
       "0.7853981633974422"
      ]
     },
     "execution_count": 96,
     "metadata": {},
     "output_type": "execute_result"
    }
   ],
   "source": [
    "maximum([get_heat(x, y, 0.0) for x in collect(0:0.1:π/4) for y in collect(0:0.1:2)])"
   ]
  },
  {
   "cell_type": "markdown",
   "metadata": {},
   "source": [
    "### Error Slice"
   ]
  },
  {
   "cell_type": "code",
   "execution_count": 105,
   "metadata": {},
   "outputs": [],
   "source": [
    "get_heat(x, y, α) = CVaR([0.2, 0.0], [x, y], α)\n",
    "ax1 = Axis(Plots.Image((x, y) -> get_heat(x, y, 0.0), (-0.4, 0.4), (-1, 1),\n",
    "    (colormap = pasteljet)))\n",
    "ax1.xlabel = L\"$\\epsilon_\\theta$\"\n",
    "ax1.ylabel = L\"$\\epsilon_\\omega$\"\n",
    "ax1.height = \"4cm\"\n",
    "ax1.width = \"4cm\"\n",
    "ax1\n",
    "PGFPlots.save(\"pend_risk_slice.tex\", ax1, include_preamble=false)"
   ]
  },
  {
   "cell_type": "code",
   "execution_count": 107,
   "metadata": {},
   "outputs": [
    {
     "data": {
      "text/plain": [
       "0.1598531716076556"
      ]
     },
     "execution_count": 107,
     "metadata": {},
     "output_type": "execute_result"
    }
   ],
   "source": [
    "minimum([get_heat(x, y, 0.0) for x in collect(-0.4:0.1:0.4) for y in collect(-1:0.1:1)])"
   ]
  },
  {
   "cell_type": "markdown",
   "metadata": {},
   "source": [
    "# Pendulum Risk Weights and Samples"
   ]
  },
  {
   "cell_type": "code",
   "execution_count": 108,
   "metadata": {},
   "outputs": [
    {
     "data": {
      "text/plain": [
       "risk_weight (generic function with 1 method)"
      ]
     },
     "execution_count": 108,
     "metadata": {},
     "output_type": "execute_result"
    }
   ],
   "source": [
    "# Convenience functions\n",
    "riskmin(x; α) = minimum([CVaR(x, [ϵ1, ϵ2], α)[1] for ϵ1 in ϵ1s, ϵ2 in ϵ2s])\n",
    "riskmax(x; α) = maximum([CVaR(x, [ϵ1, ϵ2], α)[1] for ϵ1 in ϵ1s, ϵ2 in ϵ2s])\n",
    "risk_weight(x; α) = riskmax(x; α) - riskmin(x; α)"
   ]
  },
  {
   "cell_type": "code",
   "execution_count": 114,
   "metadata": {},
   "outputs": [
    {
     "data": {
      "text/plain": [
       "rejection_sample_data (generic function with 1 method)"
      ]
     },
     "execution_count": 114,
     "metadata": {},
     "output_type": "execute_result"
    }
   ],
   "source": [
    "θmax = π/4\n",
    "ωmax = 1.0\n",
    "\n",
    "function rejection_sample_data(N; baseline = 0.5)\n",
    "    y, X = zeros(Float32, 2, N), zeros(Float32, 18, 10, 2, N)\n",
    "    ind = 1\n",
    "    while ind ≤ N\n",
    "        ysamp = [rand(Uniform(-θmax, θmax)), rand(Uniform(-ωmax, ωmax))]\n",
    "        if rand() < risk_weight(ysamp, α=0) + baseline\n",
    "            y[:, ind] = ysamp\n",
    "            X[:, :, :, ind] = obsfn(ysamp)\n",
    "            ind += 1\n",
    "        end\n",
    "        # ind % 100 == 0 ? println(ind) : nothing\n",
    "    end\n",
    "    return y, X\n",
    "end"
   ]
  },
  {
   "cell_type": "code",
   "execution_count": 121,
   "metadata": {},
   "outputs": [],
   "source": [
    "yr, Xr = rejection_sample_data(1000, baseline = 0.2);"
   ]
  },
  {
   "cell_type": "code",
   "execution_count": 125,
   "metadata": {},
   "outputs": [
    {
     "data": {
      "image/svg+xml": "<?xml version=\"1.0\" encoding=\"UTF-8\"?>\n<svg xmlns=\"http://www.w3.org/2000/svg\" xmlns:xlink=\"http://www.w3.org/1999/xlink\" width=\"147.376pt\" height=\"105.978pt\" viewBox=\"0 0 147.376 105.978\" version=\"1.2\">\n<defs>\n<g>\n<symbol overflow=\"visible\" id=\"glyph-1649198310112839-0-0\">\n<path style=\"stroke:none;\" d=\"\"/>\n</symbol>\n<symbol overflow=\"visible\" id=\"glyph-1649198310112839-0-1\">\n<path style=\"stroke:none;\" d=\"M 6.53125 -2.28125 C 6.703125 -2.28125 6.890625 -2.28125 6.890625 -2.484375 C 6.890625 -2.671875 6.703125 -2.671875 6.53125 -2.671875 L 1.171875 -2.671875 C 1 -2.671875 0.828125 -2.671875 0.828125 -2.484375 C 0.828125 -2.28125 1 -2.28125 1.171875 -2.28125 Z M 6.53125 -2.28125 \"/>\n</symbol>\n<symbol overflow=\"visible\" id=\"glyph-1649198310112839-1-0\">\n<path style=\"stroke:none;\" d=\"\"/>\n</symbol>\n<symbol overflow=\"visible\" id=\"glyph-1649198310112839-1-1\">\n<path style=\"stroke:none;\" d=\"M 4.5625 -3.171875 C 4.5625 -3.96875 4.515625 -4.765625 4.171875 -5.5 C 3.703125 -6.453125 2.890625 -6.609375 2.484375 -6.609375 C 1.890625 -6.609375 1.15625 -6.34375 0.75 -5.421875 C 0.4375 -4.75 0.390625 -3.96875 0.390625 -3.171875 C 0.390625 -2.4375 0.421875 -1.53125 0.828125 -0.78125 C 1.265625 0.015625 1.984375 0.21875 2.46875 0.21875 C 3 0.21875 3.765625 0.015625 4.203125 -0.9375 C 4.515625 -1.625 4.5625 -2.390625 4.5625 -3.171875 Z M 2.46875 0 C 2.078125 0 1.5 -0.25 1.3125 -1.203125 C 1.203125 -1.796875 1.203125 -2.703125 1.203125 -3.296875 C 1.203125 -3.921875 1.203125 -4.578125 1.296875 -5.125 C 1.484375 -6.296875 2.21875 -6.390625 2.46875 -6.390625 C 2.796875 -6.390625 3.453125 -6.21875 3.640625 -5.234375 C 3.734375 -4.671875 3.734375 -3.921875 3.734375 -3.296875 C 3.734375 -2.546875 3.734375 -1.875 3.625 -1.234375 C 3.484375 -0.296875 2.921875 0 2.46875 0 Z M 2.46875 0 \"/>\n</symbol>\n<symbol overflow=\"visible\" id=\"glyph-1649198310112839-1-2\">\n<path style=\"stroke:none;\" d=\"M 4.453125 -2 C 4.453125 -3.171875 3.640625 -4.171875 2.5625 -4.171875 C 2.09375 -4.171875 1.671875 -4.015625 1.3125 -3.65625 L 1.3125 -5.59375 C 1.515625 -5.53125 1.828125 -5.46875 2.15625 -5.46875 C 3.375 -5.46875 4.0625 -6.375 4.0625 -6.5 C 4.0625 -6.5625 4.03125 -6.609375 3.96875 -6.609375 C 3.953125 -6.609375 3.9375 -6.609375 3.890625 -6.578125 C 3.6875 -6.484375 3.203125 -6.296875 2.546875 -6.296875 C 2.140625 -6.296875 1.6875 -6.359375 1.21875 -6.5625 C 1.140625 -6.59375 1.125 -6.59375 1.09375 -6.59375 C 1 -6.59375 1 -6.515625 1 -6.359375 L 1 -3.421875 C 1 -3.25 1 -3.171875 1.140625 -3.171875 C 1.203125 -3.171875 1.234375 -3.1875 1.265625 -3.25 C 1.375 -3.40625 1.75 -3.953125 2.546875 -3.953125 C 3.0625 -3.953125 3.3125 -3.5 3.390625 -3.3125 C 3.546875 -2.953125 3.578125 -2.5625 3.578125 -2.0625 C 3.578125 -1.71875 3.578125 -1.125 3.328125 -0.703125 C 3.09375 -0.3125 2.734375 -0.0625 2.265625 -0.0625 C 1.546875 -0.0625 0.984375 -0.578125 0.8125 -1.171875 C 0.84375 -1.15625 0.875 -1.15625 0.984375 -1.15625 C 1.3125 -1.15625 1.484375 -1.40625 1.484375 -1.640625 C 1.484375 -1.875 1.3125 -2.125 0.984375 -2.125 C 0.84375 -2.125 0.5 -2.046875 0.5 -1.59375 C 0.5 -0.75 1.1875 0.21875 2.296875 0.21875 C 3.4375 0.21875 4.453125 -0.734375 4.453125 -2 Z M 4.453125 -2 \"/>\n</symbol>\n<symbol overflow=\"visible\" id=\"glyph-1649198310112839-1-3\">\n<path style=\"stroke:none;\" d=\"M 1.265625 -0.765625 L 2.3125 -1.78125 C 3.859375 -3.15625 4.453125 -3.6875 4.453125 -4.6875 C 4.453125 -5.8125 3.5625 -6.609375 2.34375 -6.609375 C 1.234375 -6.609375 0.5 -5.6875 0.5 -4.8125 C 0.5 -4.25 0.984375 -4.25 1.015625 -4.25 C 1.1875 -4.25 1.53125 -4.375 1.53125 -4.78125 C 1.53125 -5.046875 1.359375 -5.296875 1.015625 -5.296875 C 0.9375 -5.296875 0.90625 -5.296875 0.890625 -5.28125 C 1.109375 -5.9375 1.640625 -6.296875 2.21875 -6.296875 C 3.125 -6.296875 3.546875 -5.5 3.546875 -4.6875 C 3.546875 -3.890625 3.0625 -3.109375 2.515625 -2.484375 L 0.609375 -0.359375 C 0.5 -0.265625 0.5 -0.234375 0.5 0 L 4.171875 0 L 4.453125 -1.71875 L 4.203125 -1.71875 C 4.15625 -1.421875 4.09375 -0.984375 3.984375 -0.84375 C 3.921875 -0.765625 3.265625 -0.765625 3.046875 -0.765625 Z M 1.265625 -0.765625 \"/>\n</symbol>\n<symbol overflow=\"visible\" id=\"glyph-1649198310112839-1-4\">\n<path style=\"stroke:none;\" d=\"M 2.921875 -6.34375 C 2.921875 -6.59375 2.921875 -6.609375 2.6875 -6.609375 C 2.078125 -5.96875 1.203125 -5.96875 0.890625 -5.96875 L 0.890625 -5.671875 C 1.078125 -5.671875 1.671875 -5.671875 2.1875 -5.921875 L 2.1875 -0.78125 C 2.1875 -0.421875 2.15625 -0.3125 1.265625 -0.3125 L 0.9375 -0.3125 L 0.9375 0 C 1.296875 -0.03125 2.15625 -0.03125 2.546875 -0.03125 C 2.953125 -0.03125 3.8125 -0.03125 4.15625 0 L 4.15625 -0.3125 L 3.84375 -0.3125 C 2.953125 -0.3125 2.921875 -0.421875 2.921875 -0.78125 Z M 2.921875 -6.34375 \"/>\n</symbol>\n<symbol overflow=\"visible\" id=\"glyph-1649198310112839-1-5\">\n<path style=\"stroke:none;\" d=\"M 2.921875 -1.640625 L 2.921875 -0.78125 C 2.921875 -0.421875 2.890625 -0.3125 2.15625 -0.3125 L 1.953125 -0.3125 L 1.953125 0 C 2.359375 -0.03125 2.875 -0.03125 3.296875 -0.03125 C 3.703125 -0.03125 4.234375 -0.03125 4.640625 0 L 4.640625 -0.3125 L 4.4375 -0.3125 C 3.703125 -0.3125 3.6875 -0.421875 3.6875 -0.78125 L 3.6875 -1.640625 L 4.671875 -1.640625 L 4.671875 -1.9375 L 3.6875 -1.9375 L 3.6875 -6.453125 C 3.6875 -6.65625 3.6875 -6.71875 3.515625 -6.71875 C 3.4375 -6.71875 3.40625 -6.71875 3.328125 -6.59375 L 0.28125 -1.9375 L 0.28125 -1.640625 Z M 2.96875 -1.9375 L 0.5625 -1.9375 L 2.96875 -5.640625 Z M 2.96875 -1.9375 \"/>\n</symbol>\n<symbol overflow=\"visible\" id=\"glyph-1649198310112839-1-6\">\n<path style=\"stroke:none;\" d=\"M 1.3125 -3.25 L 1.3125 -3.5 C 1.3125 -6 2.546875 -6.359375 3.046875 -6.359375 C 3.28125 -6.359375 3.703125 -6.296875 3.921875 -5.96875 C 3.765625 -5.96875 3.375 -5.96875 3.375 -5.515625 C 3.375 -5.203125 3.609375 -5.0625 3.828125 -5.0625 C 3.984375 -5.0625 4.28125 -5.15625 4.28125 -5.53125 C 4.28125 -6.125 3.84375 -6.609375 3.03125 -6.609375 C 1.75 -6.609375 0.421875 -5.328125 0.421875 -3.140625 C 0.421875 -0.484375 1.5625 0.21875 2.484375 0.21875 C 3.59375 0.21875 4.53125 -0.71875 4.53125 -2.03125 C 4.53125 -3.28125 3.65625 -4.234375 2.546875 -4.234375 C 1.875 -4.234375 1.515625 -3.734375 1.3125 -3.25 Z M 2.484375 -0.0625 C 1.859375 -0.0625 1.5625 -0.65625 1.515625 -0.796875 C 1.328125 -1.265625 1.328125 -2.0625 1.328125 -2.25 C 1.328125 -3.015625 1.640625 -4.015625 2.546875 -4.015625 C 2.703125 -4.015625 3.15625 -4.015625 3.46875 -3.390625 C 3.640625 -3.03125 3.640625 -2.515625 3.640625 -2.03125 C 3.640625 -1.5625 3.640625 -1.0625 3.46875 -0.703125 C 3.171875 -0.109375 2.71875 -0.0625 2.484375 -0.0625 Z M 2.484375 -0.0625 \"/>\n</symbol>\n<symbol overflow=\"visible\" id=\"glyph-1649198310112839-1-7\">\n<path style=\"stroke:none;\" d=\"M 1.625 -4.53125 C 1.15625 -4.828125 1.125 -5.171875 1.125 -5.34375 C 1.125 -5.9375 1.765625 -6.359375 2.46875 -6.359375 C 3.1875 -6.359375 3.828125 -5.84375 3.828125 -5.125 C 3.828125 -4.5625 3.4375 -4.09375 2.84375 -3.734375 Z M 3.0625 -3.59375 C 3.78125 -3.953125 4.265625 -4.46875 4.265625 -5.125 C 4.265625 -6.046875 3.390625 -6.609375 2.484375 -6.609375 C 1.484375 -6.609375 0.6875 -5.875 0.6875 -4.953125 C 0.6875 -4.765625 0.703125 -4.328125 1.125 -3.859375 C 1.234375 -3.734375 1.59375 -3.5 1.84375 -3.328125 C 1.265625 -3.03125 0.421875 -2.484375 0.421875 -1.5 C 0.421875 -0.453125 1.421875 0.21875 2.46875 0.21875 C 3.59375 0.21875 4.53125 -0.609375 4.53125 -1.671875 C 4.53125 -2.03125 4.421875 -2.46875 4.046875 -2.890625 C 3.859375 -3.09375 3.703125 -3.1875 3.0625 -3.59375 Z M 2.078125 -3.171875 L 3.296875 -2.40625 C 3.578125 -2.21875 4.03125 -1.921875 4.03125 -1.3125 C 4.03125 -0.578125 3.296875 -0.0625 2.484375 -0.0625 C 1.625 -0.0625 0.90625 -0.671875 0.90625 -1.5 C 0.90625 -2.078125 1.234375 -2.703125 2.078125 -3.171875 Z M 2.078125 -3.171875 \"/>\n</symbol>\n<symbol overflow=\"visible\" id=\"glyph-1649198310112839-2-0\">\n<path style=\"stroke:none;\" d=\"\"/>\n</symbol>\n<symbol overflow=\"visible\" id=\"glyph-1649198310112839-2-1\">\n<path style=\"stroke:none;\" d=\"M 1.90625 -0.53125 C 1.90625 -0.8125 1.671875 -1.046875 1.375 -1.046875 C 1.09375 -1.046875 0.859375 -0.8125 0.859375 -0.53125 C 0.859375 -0.234375 1.09375 0 1.375 0 C 1.671875 0 1.90625 -0.234375 1.90625 -0.53125 Z M 1.90625 -0.53125 \"/>\n</symbol>\n<symbol overflow=\"visible\" id=\"glyph-1649198310112839-2-2\">\n<path style=\"stroke:none;\" d=\"M 4.515625 -4.953125 C 4.515625 -5.609375 4.328125 -7 3.328125 -7 C 1.9375 -7 0.421875 -4.203125 0.421875 -1.921875 C 0.421875 -0.984375 0.703125 0.109375 1.609375 0.109375 C 3 0.109375 4.515625 -2.734375 4.515625 -4.953125 Z M 1.46875 -3.609375 C 1.640625 -4.234375 1.828125 -5.03125 2.234375 -5.734375 C 2.5 -6.21875 2.875 -6.78125 3.3125 -6.78125 C 3.796875 -6.78125 3.859375 -6.140625 3.859375 -5.578125 C 3.859375 -5.09375 3.78125 -4.578125 3.546875 -3.609375 Z M 3.453125 -3.28125 C 3.34375 -2.828125 3.140625 -1.984375 2.765625 -1.265625 C 2.40625 -0.59375 2.03125 -0.109375 1.609375 -0.109375 C 1.28125 -0.109375 1.078125 -0.390625 1.078125 -1.3125 C 1.078125 -1.734375 1.125 -2.3125 1.390625 -3.28125 Z M 3.453125 -3.28125 \"/>\n</symbol>\n<symbol overflow=\"visible\" id=\"glyph-1649198310112839-3-0\">\n<path style=\"stroke:none;\" d=\"\"/>\n</symbol>\n<symbol overflow=\"visible\" id=\"glyph-1649198310112839-3-1\">\n<path style=\"stroke:none;\" d=\"M 3.28125 2.375 C 3.28125 2.34375 3.28125 2.328125 3.109375 2.15625 C 1.875 0.90625 1.5625 -0.96875 1.5625 -2.484375 C 1.5625 -4.203125 1.9375 -5.9375 3.15625 -7.171875 C 3.28125 -7.296875 3.28125 -7.3125 3.28125 -7.34375 C 3.28125 -7.40625 3.25 -7.4375 3.1875 -7.4375 C 3.078125 -7.4375 2.1875 -6.765625 1.609375 -5.5 C 1.09375 -4.421875 0.984375 -3.3125 0.984375 -2.484375 C 0.984375 -1.703125 1.09375 -0.5 1.640625 0.609375 C 2.234375 1.828125 3.078125 2.484375 3.1875 2.484375 C 3.25 2.484375 3.28125 2.453125 3.28125 2.375 Z M 3.28125 2.375 \"/>\n</symbol>\n<symbol overflow=\"visible\" id=\"glyph-1649198310112839-3-2\">\n<path style=\"stroke:none;\" d=\"M 3.609375 -3.78125 C 3.609375 -4.09375 3.296875 -4.390625 2.875 -4.390625 C 2.15625 -4.390625 1.796875 -3.71875 1.65625 -3.296875 L 1.65625 -4.390625 L 0.28125 -4.28125 L 0.28125 -3.96875 C 0.96875 -3.96875 1.046875 -3.90625 1.046875 -3.40625 L 1.046875 -0.75 C 1.046875 -0.3125 0.9375 -0.3125 0.28125 -0.3125 L 0.28125 0 L 1.40625 -0.03125 C 1.8125 -0.03125 2.265625 -0.03125 2.671875 0 L 2.671875 -0.3125 L 2.453125 -0.3125 C 1.71875 -0.3125 1.703125 -0.421875 1.703125 -0.78125 L 1.703125 -2.296875 C 1.703125 -3.28125 2.125 -4.171875 2.875 -4.171875 C 2.953125 -4.171875 2.96875 -4.171875 2.984375 -4.15625 C 2.953125 -4.140625 2.765625 -4.03125 2.765625 -3.765625 C 2.765625 -3.5 2.96875 -3.34375 3.1875 -3.34375 C 3.359375 -3.34375 3.609375 -3.46875 3.609375 -3.78125 Z M 3.609375 -3.78125 \"/>\n</symbol>\n<symbol overflow=\"visible\" id=\"glyph-1649198310112839-3-3\">\n<path style=\"stroke:none;\" d=\"M 4.796875 -0.890625 L 4.796875 -1.4375 L 4.546875 -1.4375 L 4.546875 -0.890625 C 4.546875 -0.3125 4.296875 -0.25 4.1875 -0.25 C 3.859375 -0.25 3.8125 -0.6875 3.8125 -0.75 L 3.8125 -2.734375 C 3.8125 -3.140625 3.8125 -3.53125 3.46875 -3.90625 C 3.078125 -4.28125 2.578125 -4.4375 2.109375 -4.4375 C 1.296875 -4.4375 0.609375 -3.984375 0.609375 -3.328125 C 0.609375 -3.03125 0.796875 -2.859375 1.0625 -2.859375 C 1.34375 -2.859375 1.515625 -3.0625 1.515625 -3.3125 C 1.515625 -3.4375 1.46875 -3.765625 1.015625 -3.765625 C 1.28125 -4.125 1.765625 -4.234375 2.078125 -4.234375 C 2.5625 -4.234375 3.140625 -3.84375 3.140625 -2.953125 L 3.140625 -2.59375 C 2.625 -2.5625 1.9375 -2.53125 1.3125 -2.234375 C 0.5625 -1.890625 0.3125 -1.375 0.3125 -0.9375 C 0.3125 -0.140625 1.28125 0.109375 1.90625 0.109375 C 2.5625 0.109375 3.015625 -0.28125 3.203125 -0.75 C 3.25 -0.359375 3.515625 0.0625 3.984375 0.0625 C 4.1875 0.0625 4.796875 -0.078125 4.796875 -0.890625 Z M 3.140625 -1.390625 C 3.140625 -0.453125 2.421875 -0.109375 1.96875 -0.109375 C 1.484375 -0.109375 1.078125 -0.453125 1.078125 -0.953125 C 1.078125 -1.5 1.5 -2.328125 3.140625 -2.375 Z M 3.140625 -1.390625 \"/>\n</symbol>\n<symbol overflow=\"visible\" id=\"glyph-1649198310112839-3-4\">\n<path style=\"stroke:none;\" d=\"M 5.234375 0 L 5.234375 -0.3125 C 4.53125 -0.3125 4.453125 -0.375 4.453125 -0.859375 L 4.453125 -6.890625 L 3.03125 -6.78125 L 3.03125 -6.46875 C 3.71875 -6.46875 3.796875 -6.40625 3.796875 -5.90625 L 3.796875 -3.765625 C 3.515625 -4.125 3.078125 -4.390625 2.546875 -4.390625 C 1.375 -4.390625 0.34375 -3.40625 0.34375 -2.140625 C 0.34375 -0.875 1.3125 0.109375 2.4375 0.109375 C 3.078125 0.109375 3.515625 -0.234375 3.765625 -0.546875 L 3.765625 0.109375 Z M 3.765625 -1.171875 C 3.765625 -0.984375 3.765625 -0.96875 3.65625 -0.796875 C 3.359375 -0.328125 2.921875 -0.109375 2.484375 -0.109375 C 2.046875 -0.109375 1.6875 -0.359375 1.453125 -0.75 C 1.1875 -1.15625 1.15625 -1.71875 1.15625 -2.125 C 1.15625 -2.484375 1.1875 -3.078125 1.46875 -3.53125 C 1.671875 -3.84375 2.046875 -4.171875 2.59375 -4.171875 C 2.9375 -4.171875 3.359375 -4.015625 3.65625 -3.578125 C 3.765625 -3.40625 3.765625 -3.390625 3.765625 -3.203125 Z M 3.765625 -1.171875 \"/>\n</symbol>\n<symbol overflow=\"visible\" id=\"glyph-1649198310112839-3-5\">\n<path style=\"stroke:none;\" d=\"M 2.875 -2.484375 C 2.875 -3.25 2.765625 -4.453125 2.21875 -5.578125 C 1.625 -6.796875 0.765625 -7.4375 0.671875 -7.4375 C 0.609375 -7.4375 0.5625 -7.40625 0.5625 -7.34375 C 0.5625 -7.3125 0.5625 -7.296875 0.75 -7.109375 C 1.71875 -6.125 2.296875 -4.546875 2.296875 -2.484375 C 2.296875 -0.78125 1.921875 0.96875 0.6875 2.21875 C 0.5625 2.328125 0.5625 2.34375 0.5625 2.375 C 0.5625 2.4375 0.609375 2.484375 0.671875 2.484375 C 0.765625 2.484375 1.65625 1.8125 2.25 0.546875 C 2.75 -0.546875 2.875 -1.640625 2.875 -2.484375 Z M 2.875 -2.484375 \"/>\n</symbol>\n<symbol overflow=\"visible\" id=\"glyph-1649198310112839-4-0\">\n<path style=\"stroke:none;\" d=\"\"/>\n</symbol>\n<symbol overflow=\"visible\" id=\"glyph-1649198310112839-4-1\">\n<path style=\"stroke:none;\" d=\"M -3.6875 -6 C -4.140625 -6 -4.390625 -5.828125 -4.390625 -5.609375 C -4.390625 -5.34375 -4.140625 -5.078125 -3.921875 -5.078125 C -3.8125 -5.078125 -3.703125 -5.125 -3.625 -5.234375 C -3.46875 -5.390625 -3.203125 -5.578125 -2.78125 -5.578125 C -2.390625 -5.578125 -1.828125 -5.390625 -1.375 -5.078125 C -0.9375 -4.78125 -0.609375 -4.421875 -0.609375 -3.953125 C -0.609375 -3.390625 -0.96875 -3.078125 -1.5 -2.984375 C -1.75 -3.09375 -2.390625 -3.328125 -2.671875 -3.328125 C -2.78125 -3.328125 -2.890625 -3.28125 -2.890625 -3.140625 C -2.890625 -3.0625 -2.875 -2.953125 -2.71875 -2.875 C -2.515625 -2.765625 -1.875 -2.65625 -1.515625 -2.65625 C -1.046875 -2.328125 -0.609375 -1.921875 -0.609375 -1.296875 C -0.609375 -0.640625 -1.1875 -0.4375 -1.75 -0.4375 C -2.984375 -0.4375 -4.03125 -1.453125 -4.15625 -1.453125 C -4.265625 -1.453125 -4.34375 -1.375 -4.34375 -1.265625 C -4.34375 -1.125 -4.21875 -1.0625 -4.125 -1 C -3.390625 -0.5 -2.21875 -0.125 -1.3125 -0.125 C -0.625 -0.125 0.109375 -0.34375 0.109375 -1.15625 C 0.109375 -1.859375 -0.390625 -2.328125 -0.9375 -2.6875 C -0.359375 -2.78125 0.109375 -3.171875 0.109375 -3.78125 C 0.109375 -4.546875 -0.5 -5.03125 -1.234375 -5.390625 C -1.71875 -5.625 -3.078125 -6 -3.6875 -6 Z M -3.6875 -6 \"/>\n</symbol>\n<symbol overflow=\"visible\" id=\"glyph-1649198310112839-5-0\">\n<path style=\"stroke:none;\" d=\"\"/>\n</symbol>\n<symbol overflow=\"visible\" id=\"glyph-1649198310112839-5-1\">\n<path style=\"stroke:none;\" d=\"M 2.375 -3.28125 C 2.34375 -3.28125 2.328125 -3.28125 2.15625 -3.109375 C 0.90625 -1.875 -0.96875 -1.5625 -2.484375 -1.5625 C -4.203125 -1.5625 -5.9375 -1.9375 -7.171875 -3.15625 C -7.296875 -3.28125 -7.3125 -3.28125 -7.34375 -3.28125 C -7.40625 -3.28125 -7.4375 -3.25 -7.4375 -3.1875 C -7.4375 -3.078125 -6.765625 -2.1875 -5.5 -1.609375 C -4.421875 -1.09375 -3.3125 -0.984375 -2.484375 -0.984375 C -1.703125 -0.984375 -0.5 -1.09375 0.609375 -1.640625 C 1.828125 -2.234375 2.484375 -3.078125 2.484375 -3.1875 C 2.484375 -3.25 2.453125 -3.28125 2.375 -3.28125 Z M 2.375 -3.28125 \"/>\n</symbol>\n<symbol overflow=\"visible\" id=\"glyph-1649198310112839-5-2\">\n<path style=\"stroke:none;\" d=\"M -3.78125 -3.609375 C -4.09375 -3.609375 -4.390625 -3.296875 -4.390625 -2.875 C -4.390625 -2.15625 -3.71875 -1.796875 -3.296875 -1.65625 L -4.390625 -1.65625 L -4.28125 -0.28125 L -3.96875 -0.28125 C -3.96875 -0.96875 -3.90625 -1.046875 -3.40625 -1.046875 L -0.75 -1.046875 C -0.3125 -1.046875 -0.3125 -0.9375 -0.3125 -0.28125 L 0 -0.28125 L -0.03125 -1.40625 C -0.03125 -1.8125 -0.03125 -2.265625 0 -2.671875 L -0.3125 -2.671875 L -0.3125 -2.453125 C -0.3125 -1.71875 -0.421875 -1.703125 -0.78125 -1.703125 L -2.296875 -1.703125 C -3.28125 -1.703125 -4.171875 -2.125 -4.171875 -2.875 C -4.171875 -2.953125 -4.171875 -2.96875 -4.15625 -2.984375 C -4.140625 -2.953125 -4.03125 -2.765625 -3.765625 -2.765625 C -3.5 -2.765625 -3.34375 -2.96875 -3.34375 -3.1875 C -3.34375 -3.359375 -3.46875 -3.609375 -3.78125 -3.609375 Z M -3.78125 -3.609375 \"/>\n</symbol>\n<symbol overflow=\"visible\" id=\"glyph-1649198310112839-5-3\">\n<path style=\"stroke:none;\" d=\"M -0.890625 -4.796875 L -1.4375 -4.796875 L -1.4375 -4.546875 L -0.890625 -4.546875 C -0.3125 -4.546875 -0.25 -4.296875 -0.25 -4.1875 C -0.25 -3.859375 -0.6875 -3.8125 -0.75 -3.8125 L -2.734375 -3.8125 C -3.140625 -3.8125 -3.53125 -3.8125 -3.90625 -3.46875 C -4.28125 -3.078125 -4.4375 -2.578125 -4.4375 -2.109375 C -4.4375 -1.296875 -3.984375 -0.609375 -3.328125 -0.609375 C -3.03125 -0.609375 -2.859375 -0.796875 -2.859375 -1.0625 C -2.859375 -1.34375 -3.0625 -1.515625 -3.3125 -1.515625 C -3.4375 -1.515625 -3.765625 -1.46875 -3.765625 -1.015625 C -4.125 -1.28125 -4.234375 -1.765625 -4.234375 -2.078125 C -4.234375 -2.5625 -3.84375 -3.140625 -2.953125 -3.140625 L -2.59375 -3.140625 C -2.5625 -2.625 -2.53125 -1.9375 -2.234375 -1.3125 C -1.890625 -0.5625 -1.375 -0.3125 -0.9375 -0.3125 C -0.140625 -0.3125 0.109375 -1.28125 0.109375 -1.90625 C 0.109375 -2.5625 -0.28125 -3.015625 -0.75 -3.203125 C -0.359375 -3.25 0.0625 -3.515625 0.0625 -3.984375 C 0.0625 -4.1875 -0.078125 -4.796875 -0.890625 -4.796875 Z M -1.390625 -3.140625 C -0.453125 -3.140625 -0.109375 -2.421875 -0.109375 -1.96875 C -0.109375 -1.484375 -0.453125 -1.078125 -0.953125 -1.078125 C -1.5 -1.078125 -2.328125 -1.5 -2.375 -3.140625 Z M -1.390625 -3.140625 \"/>\n</symbol>\n<symbol overflow=\"visible\" id=\"glyph-1649198310112839-5-4\">\n<path style=\"stroke:none;\" d=\"M 0 -5.234375 L -0.3125 -5.234375 C -0.3125 -4.53125 -0.375 -4.453125 -0.859375 -4.453125 L -6.890625 -4.453125 L -6.78125 -3.03125 L -6.46875 -3.03125 C -6.46875 -3.71875 -6.40625 -3.796875 -5.90625 -3.796875 L -3.765625 -3.796875 C -4.125 -3.515625 -4.390625 -3.078125 -4.390625 -2.546875 C -4.390625 -1.375 -3.40625 -0.34375 -2.140625 -0.34375 C -0.875 -0.34375 0.109375 -1.3125 0.109375 -2.4375 C 0.109375 -3.078125 -0.234375 -3.515625 -0.546875 -3.765625 L 0.109375 -3.765625 Z M -1.171875 -3.765625 C -0.984375 -3.765625 -0.96875 -3.765625 -0.796875 -3.65625 C -0.328125 -3.359375 -0.109375 -2.921875 -0.109375 -2.484375 C -0.109375 -2.046875 -0.359375 -1.6875 -0.75 -1.453125 C -1.15625 -1.1875 -1.71875 -1.15625 -2.125 -1.15625 C -2.484375 -1.15625 -3.078125 -1.1875 -3.53125 -1.46875 C -3.84375 -1.671875 -4.171875 -2.046875 -4.171875 -2.59375 C -4.171875 -2.9375 -4.015625 -3.359375 -3.578125 -3.65625 C -3.40625 -3.765625 -3.390625 -3.765625 -3.203125 -3.765625 Z M -1.171875 -3.765625 \"/>\n</symbol>\n<symbol overflow=\"visible\" id=\"glyph-1649198310112839-5-5\">\n<path style=\"stroke:none;\" d=\"M -7.25 -4.390625 C -7.359375 -4.390625 -7.4375 -4.3125 -7.4375 -4.203125 C -7.4375 -4.0625 -7.34375 -4.015625 -7.25 -3.984375 L 2.109375 -0.609375 C 2.234375 -0.5625 2.28125 -0.5625 2.28125 -0.5625 C 2.390625 -0.5625 2.484375 -0.640625 2.484375 -0.75 C 2.484375 -0.890625 2.375 -0.9375 2.28125 -0.96875 L -7.0625 -4.34375 C -7.1875 -4.390625 -7.25 -4.390625 -7.25 -4.390625 Z M -7.25 -4.390625 \"/>\n</symbol>\n<symbol overflow=\"visible\" id=\"glyph-1649198310112839-5-6\">\n<path style=\"stroke:none;\" d=\"M -1.265625 -3.578125 C -1.796875 -3.578125 -2.09375 -3.28125 -2.21875 -3.15625 C -2.53125 -2.828125 -2.609375 -2.4375 -2.6875 -2.03125 C -2.796875 -1.46875 -2.921875 -0.796875 -3.5 -0.796875 C -3.84375 -0.796875 -4.25 -1.0625 -4.25 -1.921875 C -4.25 -3 -3.359375 -3.0625 -3.0625 -3.078125 C -2.96875 -3.078125 -2.96875 -3.1875 -2.96875 -3.1875 C -2.96875 -3.328125 -3.015625 -3.328125 -3.203125 -3.328125 L -4.203125 -3.328125 C -4.375 -3.328125 -4.4375 -3.328125 -4.4375 -3.21875 C -4.4375 -3.171875 -4.4375 -3.140625 -4.328125 -3.015625 C -4.28125 -2.984375 -4.203125 -2.890625 -4.171875 -2.84375 C -4.4375 -2.46875 -4.4375 -2.0625 -4.4375 -1.921875 C -4.4375 -0.703125 -3.78125 -0.328125 -3.21875 -0.328125 C -2.875 -0.328125 -2.59375 -0.484375 -2.375 -0.75 C -2.125 -1.078125 -2.0625 -1.34375 -1.921875 -2.0625 C -1.890625 -2.28125 -1.71875 -3.09375 -1.015625 -3.09375 C -0.5 -3.09375 -0.109375 -2.75 -0.109375 -1.96875 C -0.109375 -1.140625 -0.671875 -0.78125 -1.515625 -0.59375 C -1.640625 -0.5625 -1.6875 -0.5625 -1.6875 -0.453125 C -1.6875 -0.328125 -1.625 -0.328125 -1.4375 -0.328125 L -0.125 -0.328125 C 0.046875 -0.328125 0.109375 -0.328125 0.109375 -0.4375 C 0.109375 -0.484375 0.09375 -0.5 -0.09375 -0.6875 C -0.109375 -0.703125 -0.125 -0.703125 -0.3125 -0.890625 C 0.09375 -1.3125 0.109375 -1.765625 0.109375 -1.96875 C 0.109375 -3.109375 -0.5625 -3.578125 -1.265625 -3.578125 Z M -1.265625 -3.578125 \"/>\n</symbol>\n<symbol overflow=\"visible\" id=\"glyph-1649198310112839-5-7\">\n<path style=\"stroke:none;\" d=\"M -2.484375 -2.875 C -3.25 -2.875 -4.453125 -2.765625 -5.578125 -2.21875 C -6.796875 -1.625 -7.4375 -0.765625 -7.4375 -0.671875 C -7.4375 -0.609375 -7.40625 -0.5625 -7.34375 -0.5625 C -7.3125 -0.5625 -7.296875 -0.5625 -7.109375 -0.75 C -6.125 -1.71875 -4.546875 -2.296875 -2.484375 -2.296875 C -0.78125 -2.296875 0.96875 -1.921875 2.21875 -0.6875 C 2.328125 -0.5625 2.34375 -0.5625 2.375 -0.5625 C 2.4375 -0.5625 2.484375 -0.609375 2.484375 -0.671875 C 2.484375 -0.765625 1.8125 -1.65625 0.546875 -2.25 C -0.546875 -2.75 -1.640625 -2.875 -2.484375 -2.875 Z M -2.484375 -2.875 \"/>\n</symbol>\n</g>\n<clipPath id=\"clip-1649198310112839-1\">\n  <path d=\"M 36.21875 7 L 104 7 L 104 74.980469 L 36.21875 74.980469 Z M 36.21875 7 \"/>\n</clipPath>\n<image style=\"image-rendering: pixelated;\" id=\"image-1649198310112839-5\" width=\"100\" height=\"100\" xlink:href=\"data:image/png;base64,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\"/>\n<clipPath id=\"clip-1649198310112839-2\">\n  <path d=\"M 113.152344 7 L 127.265625 7 L 127.265625 74.980469 L 113.152344 74.980469 Z M 113.152344 7 \"/>\n</clipPath>\n<linearGradient id=\"linear-1649198310112839-0\" gradientUnits=\"userSpaceOnUse\" x1=\"0\" y1=\"0\" x2=\"0\" y2=\"68.543\" gradientTransform=\"matrix(0.995784,0,0,-0.995784,113.153899,74.979889)\">\n<stop offset=\"0\" style=\"stop-color:rgb(26.699829%,0.486755%,32.940674%);stop-opacity:1;\"/>\n<stop offset=\"0.00390625\" style=\"stop-color:rgb(26.846313%,0.971985%,33.535767%);stop-opacity:1;\"/>\n<stop offset=\"0.0078125\" style=\"stop-color:rgb(26.992798%,1.457214%,34.132385%);stop-opacity:1;\"/>\n<stop offset=\"0.0117188\" style=\"stop-color:rgb(27.124023%,2.001953%,34.715271%);stop-opacity:1;\"/>\n<stop offset=\"0.015625\" style=\"stop-color:rgb(27.256775%,2.546692%,35.299683%);stop-opacity:1;\"/>\n<stop offset=\"0.0195312\" style=\"stop-color:rgb(27.374268%,3.152466%,35.870361%);stop-opacity:1;\"/>\n<stop offset=\"0.0234375\" style=\"stop-color:rgb(27.49176%,3.759766%,36.44104%);stop-opacity:1;\"/>\n<stop offset=\"0.0273437\" style=\"stop-color:rgb(27.593994%,4.386902%,36.99646%);stop-opacity:1;\"/>\n<stop offset=\"0.03125\" style=\"stop-color:rgb(27.697754%,5.014038%,37.553406%);stop-opacity:1;\"/>\n<stop offset=\"0.0351562\" style=\"stop-color:rgb(27.786255%,5.603027%,38.095093%);stop-opacity:1;\"/>\n<stop offset=\"0.0390625\" style=\"stop-color:rgb(27.876282%,6.192017%,38.638306%);stop-opacity:1;\"/>\n<stop offset=\"0.0429688\" style=\"stop-color:rgb(27.949524%,6.752014%,39.164734%);stop-opacity:1;\"/>\n<stop offset=\"0.046875\" style=\"stop-color:rgb(28.022766%,7.313538%,39.691162%);stop-opacity:1;\"/>\n<stop offset=\"0.0507812\" style=\"stop-color:rgb(28.082275%,7.85675%,40.200806%);stop-opacity:1;\"/>\n<stop offset=\"0.0546875\" style=\"stop-color:rgb(28.141785%,8.401489%,40.711975%);stop-opacity:1;\"/>\n<stop offset=\"0.0585938\" style=\"stop-color:rgb(28.186035%,8.930969%,41.20636%);stop-opacity:1;\"/>\n<stop offset=\"0.0625\" style=\"stop-color:rgb(28.230286%,9.461975%,41.700745%);stop-opacity:1;\"/>\n<stop offset=\"0.0664062\" style=\"stop-color:rgb(28.259277%,9.9823%,42.178345%);stop-opacity:1;\"/>\n<stop offset=\"0.0703125\" style=\"stop-color:rgb(28.288269%,10.502625%,42.655945%);stop-opacity:1;\"/>\n<stop offset=\"0.0742188\" style=\"stop-color:rgb(28.303528%,11.013794%,43.115234%);stop-opacity:1;\"/>\n<stop offset=\"0.078125\" style=\"stop-color:rgb(28.318787%,11.526489%,43.574524%);stop-opacity:1;\"/>\n<stop offset=\"0.0820312\" style=\"stop-color:rgb(28.318787%,12.033081%,44.015503%);stop-opacity:1;\"/>\n<stop offset=\"0.0859375\" style=\"stop-color:rgb(28.318787%,12.539673%,44.458008%);stop-opacity:1;\"/>\n<stop offset=\"0.0898438\" style=\"stop-color:rgb(28.303528%,13.041687%,44.880676%);stop-opacity:1;\"/>\n<stop offset=\"0.09375\" style=\"stop-color:rgb(28.288269%,13.545227%,45.303345%);stop-opacity:1;\"/>\n<stop offset=\"0.0976562\" style=\"stop-color:rgb(28.259277%,14.041138%,45.706177%);stop-opacity:1;\"/>\n<stop offset=\"0.101562\" style=\"stop-color:rgb(28.231812%,14.538574%,46.110535%);stop-opacity:1;\"/>\n<stop offset=\"0.105469\" style=\"stop-color:rgb(28.189087%,15.032959%,46.49353%);stop-opacity:1;\"/>\n<stop offset=\"0.109375\" style=\"stop-color:rgb(28.146362%,15.52887%,46.878052%);stop-opacity:1;\"/>\n<stop offset=\"0.113281\" style=\"stop-color:rgb(28.088379%,16.020203%,47.242737%);stop-opacity:1;\"/>\n<stop offset=\"0.117188\" style=\"stop-color:rgb(28.031921%,16.511536%,47.607422%);stop-opacity:1;\"/>\n<stop offset=\"0.121094\" style=\"stop-color:rgb(27.960205%,16.998291%,47.952271%);stop-opacity:1;\"/>\n<stop offset=\"0.125\" style=\"stop-color:rgb(27.890015%,17.486572%,48.297119%);stop-opacity:1;\"/>\n<stop offset=\"0.128906\" style=\"stop-color:rgb(27.806091%,17.971802%,48.622131%);stop-opacity:1;\"/>\n<stop offset=\"0.132812\" style=\"stop-color:rgb(27.723694%,18.457031%,48.947144%);stop-opacity:1;\"/>\n<stop offset=\"0.136719\" style=\"stop-color:rgb(27.627563%,18.939209%,49.252319%);stop-opacity:1;\"/>\n<stop offset=\"0.140625\" style=\"stop-color:rgb(27.532959%,19.421387%,49.557495%);stop-opacity:1;\"/>\n<stop offset=\"0.144531\" style=\"stop-color:rgb(27.424622%,19.898987%,49.842834%);stop-opacity:1;\"/>\n<stop offset=\"0.148438\" style=\"stop-color:rgb(27.316284%,20.378113%,50.1297%);stop-opacity:1;\"/>\n<stop offset=\"0.152344\" style=\"stop-color:rgb(27.197266%,20.854187%,50.396729%);stop-opacity:1;\"/>\n<stop offset=\"0.15625\" style=\"stop-color:rgb(27.078247%,21.331787%,50.663757%);stop-opacity:1;\"/>\n<stop offset=\"0.160156\" style=\"stop-color:rgb(26.948547%,21.803284%,50.91095%);stop-opacity:1;\"/>\n<stop offset=\"0.164062\" style=\"stop-color:rgb(26.818848%,22.276306%,51.159668%);stop-opacity:1;\"/>\n<stop offset=\"0.167969\" style=\"stop-color:rgb(26.678467%,22.744751%,51.390076%);stop-opacity:1;\"/>\n<stop offset=\"0.171875\" style=\"stop-color:rgb(26.539612%,23.214722%,51.620483%);stop-opacity:1;\"/>\n<stop offset=\"0.175781\" style=\"stop-color:rgb(26.390076%,23.678589%,51.832581%);stop-opacity:1;\"/>\n<stop offset=\"0.179688\" style=\"stop-color:rgb(26.24054%,24.143982%,52.046204%);stop-opacity:1;\"/>\n<stop offset=\"0.183594\" style=\"stop-color:rgb(26.083374%,24.604797%,52.241516%);stop-opacity:1;\"/>\n<stop offset=\"0.1875\" style=\"stop-color:rgb(25.926208%,25.065613%,52.436829%);stop-opacity:1;\"/>\n<stop offset=\"0.191406\" style=\"stop-color:rgb(25.761414%,25.521851%,52.615356%);stop-opacity:1;\"/>\n<stop offset=\"0.195312\" style=\"stop-color:rgb(25.596619%,25.979614%,52.79541%);stop-opacity:1;\"/>\n<stop offset=\"0.199219\" style=\"stop-color:rgb(25.42572%,26.431274%,52.960205%);stop-opacity:1;\"/>\n<stop offset=\"0.203125\" style=\"stop-color:rgb(25.254822%,26.88446%,53.125%);stop-opacity:1;\"/>\n<stop offset=\"0.207031\" style=\"stop-color:rgb(25.07782%,27.333069%,53.274536%);stop-opacity:1;\"/>\n<stop offset=\"0.210938\" style=\"stop-color:rgb(24.900818%,27.781677%,53.424072%);stop-opacity:1;\"/>\n<stop offset=\"0.214844\" style=\"stop-color:rgb(24.717712%,28.224182%,53.559875%);stop-opacity:1;\"/>\n<stop offset=\"0.21875\" style=\"stop-color:rgb(24.536133%,28.668213%,53.695679%);stop-opacity:1;\"/>\n<stop offset=\"0.222656\" style=\"stop-color:rgb(24.349976%,29.107666%,53.819275%);stop-opacity:1;\"/>\n<stop offset=\"0.226562\" style=\"stop-color:rgb(24.165344%,29.547119%,53.942871%);stop-opacity:1;\"/>\n<stop offset=\"0.230469\" style=\"stop-color:rgb(23.976135%,29.981995%,54.05426%);stop-opacity:1;\"/>\n<stop offset=\"0.234375\" style=\"stop-color:rgb(23.788452%,30.41687%,54.165649%);stop-opacity:1;\"/>\n<stop offset=\"0.238281\" style=\"stop-color:rgb(23.596191%,30.847168%,54.266357%);stop-opacity:1;\"/>\n<stop offset=\"0.242188\" style=\"stop-color:rgb(23.405457%,31.277466%,54.367065%);stop-opacity:1;\"/>\n<stop offset=\"0.246094\" style=\"stop-color:rgb(23.213196%,31.703186%,54.457092%);stop-opacity:1;\"/>\n<stop offset=\"0.25\" style=\"stop-color:rgb(23.022461%,32.128906%,54.547119%);stop-opacity:1;\"/>\n<stop offset=\"0.253906\" style=\"stop-color:rgb(22.828674%,32.550049%,54.627991%);stop-opacity:1;\"/>\n<stop offset=\"0.257812\" style=\"stop-color:rgb(22.634888%,32.971191%,54.710388%);stop-opacity:1;\"/>\n<stop offset=\"0.261719\" style=\"stop-color:rgb(22.441101%,33.387756%,54.782104%);stop-opacity:1;\"/>\n<stop offset=\"0.265625\" style=\"stop-color:rgb(22.24884%,33.804321%,54.855347%);stop-opacity:1;\"/>\n<stop offset=\"0.269531\" style=\"stop-color:rgb(22.05658%,34.216309%,54.919434%);stop-opacity:1;\"/>\n<stop offset=\"0.273438\" style=\"stop-color:rgb(21.864319%,34.628296%,54.985046%);stop-opacity:1;\"/>\n<stop offset=\"0.277344\" style=\"stop-color:rgb(21.673584%,35.037231%,55.04303%);stop-opacity:1;\"/>\n<stop offset=\"0.28125\" style=\"stop-color:rgb(21.482849%,35.446167%,55.101013%);stop-opacity:1;\"/>\n<stop offset=\"0.285156\" style=\"stop-color:rgb(21.29364%,35.848999%,55.152893%);stop-opacity:1;\"/>\n<stop offset=\"0.289063\" style=\"stop-color:rgb(21.104431%,36.253357%,55.204773%);stop-opacity:1;\"/>\n<stop offset=\"0.292969\" style=\"stop-color:rgb(20.916748%,36.654663%,55.250549%);stop-opacity:1;\"/>\n<stop offset=\"0.296875\" style=\"stop-color:rgb(20.730591%,37.055969%,55.297852%);stop-opacity:1;\"/>\n<stop offset=\"0.300781\" style=\"stop-color:rgb(20.545959%,37.452698%,55.337524%);stop-opacity:1;\"/>\n<stop offset=\"0.304688\" style=\"stop-color:rgb(20.361328%,37.849426%,55.378723%);stop-opacity:1;\"/>\n<stop offset=\"0.308594\" style=\"stop-color:rgb(20.179749%,38.241577%,55.415344%);stop-opacity:1;\"/>\n<stop offset=\"0.3125\" style=\"stop-color:rgb(19.998169%,38.635254%,55.451965%);stop-opacity:1;\"/>\n<stop offset=\"0.316406\" style=\"stop-color:rgb(19.819641%,39.025879%,55.484009%);stop-opacity:1;\"/>\n<stop offset=\"0.320312\" style=\"stop-color:rgb(19.642639%,39.416504%,55.517578%);stop-opacity:1;\"/>\n<stop offset=\"0.324219\" style=\"stop-color:rgb(19.467163%,39.804077%,55.545044%);stop-opacity:1;\"/>\n<stop offset=\"0.328125\" style=\"stop-color:rgb(19.291687%,40.19165%,55.574036%);stop-opacity:1;\"/>\n<stop offset=\"0.332031\" style=\"stop-color:rgb(19.119263%,40.574646%,55.59845%);stop-opacity:1;\"/>\n<stop offset=\"0.335937\" style=\"stop-color:rgb(18.948364%,40.959167%,55.622864%);stop-opacity:1;\"/>\n<stop offset=\"0.339844\" style=\"stop-color:rgb(18.780518%,41.340637%,55.644226%);stop-opacity:1;\"/>\n<stop offset=\"0.34375\" style=\"stop-color:rgb(18.612671%,41.723633%,55.667114%);stop-opacity:1;\"/>\n<stop offset=\"0.347656\" style=\"stop-color:rgb(18.447876%,42.103577%,55.685425%);stop-opacity:1;\"/>\n<stop offset=\"0.351563\" style=\"stop-color:rgb(18.283081%,42.483521%,55.705261%);stop-opacity:1;\"/>\n<stop offset=\"0.355469\" style=\"stop-color:rgb(18.121338%,42.860413%,55.72052%);stop-opacity:1;\"/>\n<stop offset=\"0.359375\" style=\"stop-color:rgb(17.959595%,43.238831%,55.737305%);stop-opacity:1;\"/>\n<stop offset=\"0.363281\" style=\"stop-color:rgb(17.800903%,43.614197%,55.749512%);stop-opacity:1;\"/>\n<stop offset=\"0.367188\" style=\"stop-color:rgb(17.642212%,43.989563%,55.763245%);stop-opacity:1;\"/>\n<stop offset=\"0.371094\" style=\"stop-color:rgb(17.485046%,44.363403%,55.773926%);stop-opacity:1;\"/>\n<stop offset=\"0.375\" style=\"stop-color:rgb(17.329407%,44.737244%,55.784607%);stop-opacity:1;\"/>\n<stop offset=\"0.378906\" style=\"stop-color:rgb(17.175293%,45.109558%,55.792236%);stop-opacity:1;\"/>\n<stop offset=\"0.382812\" style=\"stop-color:rgb(17.022705%,45.481873%,55.799866%);stop-opacity:1;\"/>\n<stop offset=\"0.386719\" style=\"stop-color:rgb(16.870117%,45.852661%,55.804443%);stop-opacity:1;\"/>\n<stop offset=\"0.390625\" style=\"stop-color:rgb(16.719055%,46.22345%,55.809021%);stop-opacity:1;\"/>\n<stop offset=\"0.394531\" style=\"stop-color:rgb(16.569519%,46.592712%,55.810547%);stop-opacity:1;\"/>\n<stop offset=\"0.398437\" style=\"stop-color:rgb(16.421509%,46.963501%,55.813599%);stop-opacity:1;\"/>\n<stop offset=\"0.402344\" style=\"stop-color:rgb(16.273499%,47.332764%,55.812073%);stop-opacity:1;\"/>\n<stop offset=\"0.40625\" style=\"stop-color:rgb(16.125488%,47.702026%,55.812073%);stop-opacity:1;\"/>\n<stop offset=\"0.410156\" style=\"stop-color:rgb(15.979004%,48.069763%,55.807495%);stop-opacity:1;\"/>\n<stop offset=\"0.414062\" style=\"stop-color:rgb(15.834045%,48.439026%,55.802917%);stop-opacity:1;\"/>\n<stop offset=\"0.417969\" style=\"stop-color:rgb(15.687561%,48.806763%,55.795288%);stop-opacity:1;\"/>\n<stop offset=\"0.421875\" style=\"stop-color:rgb(15.542603%,49.1745%,55.787659%);stop-opacity:1;\"/>\n<stop offset=\"0.425781\" style=\"stop-color:rgb(15.397644%,49.54071%,55.775452%);stop-opacity:1;\"/>\n<stop offset=\"0.429688\" style=\"stop-color:rgb(15.254211%,49.908447%,55.763245%);stop-opacity:1;\"/>\n<stop offset=\"0.433594\" style=\"stop-color:rgb(15.109253%,50.274658%,55.747986%);stop-opacity:1;\"/>\n<stop offset=\"0.4375\" style=\"stop-color:rgb(14.96582%,50.642395%,55.732727%);stop-opacity:1;\"/>\n<stop offset=\"0.441406\" style=\"stop-color:rgb(14.822388%,51.008606%,55.711365%);stop-opacity:1;\"/>\n<stop offset=\"0.445312\" style=\"stop-color:rgb(14.680481%,51.374817%,55.691528%);stop-opacity:1;\"/>\n<stop offset=\"0.449219\" style=\"stop-color:rgb(14.538574%,51.741028%,55.665588%);stop-opacity:1;\"/>\n<stop offset=\"0.453125\" style=\"stop-color:rgb(14.398193%,52.108765%,55.641174%);stop-opacity:1;\"/>\n<stop offset=\"0.457031\" style=\"stop-color:rgb(14.257812%,52.474976%,55.610657%);stop-opacity:1;\"/>\n<stop offset=\"0.460938\" style=\"stop-color:rgb(14.117432%,52.842712%,55.580139%);stop-opacity:1;\"/>\n<stop offset=\"0.464844\" style=\"stop-color:rgb(13.978577%,53.208923%,55.543518%);stop-opacity:1;\"/>\n<stop offset=\"0.46875\" style=\"stop-color:rgb(13.841248%,53.575134%,55.508423%);stop-opacity:1;\"/>\n<stop offset=\"0.472656\" style=\"stop-color:rgb(13.705444%,53.941345%,55.465698%);stop-opacity:1;\"/>\n<stop offset=\"0.476562\" style=\"stop-color:rgb(13.571167%,54.307556%,55.4245%);stop-opacity:1;\"/>\n<stop offset=\"0.480469\" style=\"stop-color:rgb(13.438416%,54.673767%,55.375671%);stop-opacity:1;\"/>\n<stop offset=\"0.484375\" style=\"stop-color:rgb(13.30719%,55.041504%,55.326843%);stop-opacity:1;\"/>\n<stop offset=\"0.488281\" style=\"stop-color:rgb(13.179016%,55.407715%,55.270386%);stop-opacity:1;\"/>\n<stop offset=\"0.492187\" style=\"stop-color:rgb(13.052368%,55.775452%,55.215454%);stop-opacity:1;\"/>\n<stop offset=\"0.496094\" style=\"stop-color:rgb(12.931824%,56.141663%,55.151367%);stop-opacity:1;\"/>\n<stop offset=\"0.5\" style=\"stop-color:rgb(12.812805%,56.509399%,55.08728%);stop-opacity:1;\"/>\n<stop offset=\"0.503906\" style=\"stop-color:rgb(12.702942%,56.87561%,55.01709%);stop-opacity:1;\"/>\n<stop offset=\"0.507812\" style=\"stop-color:rgb(12.593079%,57.243347%,54.946899%);stop-opacity:1;\"/>\n<stop offset=\"0.511719\" style=\"stop-color:rgb(12.492371%,57.609558%,54.867554%);stop-opacity:1;\"/>\n<stop offset=\"0.515625\" style=\"stop-color:rgb(12.393188%,57.977295%,54.788208%);stop-opacity:1;\"/>\n<stop offset=\"0.519531\" style=\"stop-color:rgb(12.307739%,58.343506%,54.698181%);stop-opacity:1;\"/>\n<stop offset=\"0.523438\" style=\"stop-color:rgb(12.22229%,58.711243%,54.60968%);stop-opacity:1;\"/>\n<stop offset=\"0.527344\" style=\"stop-color:rgb(12.153625%,59.077454%,54.512024%);stop-opacity:1;\"/>\n<stop offset=\"0.53125\" style=\"stop-color:rgb(12.086487%,59.44519%,54.415894%);stop-opacity:1;\"/>\n<stop offset=\"0.535156\" style=\"stop-color:rgb(12.039185%,59.811401%,54.307556%);stop-opacity:1;\"/>\n<stop offset=\"0.539062\" style=\"stop-color:rgb(11.991882%,60.177612%,54.200745%);stop-opacity:1;\"/>\n<stop offset=\"0.542969\" style=\"stop-color:rgb(11.968994%,60.543823%,54.083252%);stop-opacity:1;\"/>\n<stop offset=\"0.546875\" style=\"stop-color:rgb(11.946106%,60.91156%,53.965759%);stop-opacity:1;\"/>\n<stop offset=\"0.550781\" style=\"stop-color:rgb(11.950684%,61.276245%,53.837585%);stop-opacity:1;\"/>\n<stop offset=\"0.554687\" style=\"stop-color:rgb(11.956787%,61.642456%,53.709412%);stop-opacity:1;\"/>\n<stop offset=\"0.558594\" style=\"stop-color:rgb(11.993408%,62.008667%,53.569031%);stop-opacity:1;\"/>\n<stop offset=\"0.5625\" style=\"stop-color:rgb(12.031555%,62.374878%,53.430176%);stop-opacity:1;\"/>\n<stop offset=\"0.566406\" style=\"stop-color:rgb(12.103271%,62.739563%,53.279114%);stop-opacity:1;\"/>\n<stop offset=\"0.570313\" style=\"stop-color:rgb(12.176514%,63.104248%,53.129578%);stop-opacity:1;\"/>\n<stop offset=\"0.574219\" style=\"stop-color:rgb(12.287903%,63.468933%,52.966309%);stop-opacity:1;\"/>\n<stop offset=\"0.578125\" style=\"stop-color:rgb(12.399292%,63.833618%,52.804565%);stop-opacity:1;\"/>\n<stop offset=\"0.582031\" style=\"stop-color:rgb(12.55188%,64.196777%,52.629089%);stop-opacity:1;\"/>\n<stop offset=\"0.585938\" style=\"stop-color:rgb(12.704468%,64.559937%,52.455139%);stop-opacity:1;\"/>\n<stop offset=\"0.589844\" style=\"stop-color:rgb(12.89978%,64.92157%,52.267456%);stop-opacity:1;\"/>\n<stop offset=\"0.59375\" style=\"stop-color:rgb(13.095093%,65.283203%,52.081299%);stop-opacity:1;\"/>\n<stop offset=\"0.597656\" style=\"stop-color:rgb(13.33313%,65.643311%,51.881409%);stop-opacity:1;\"/>\n<stop offset=\"0.601563\" style=\"stop-color:rgb(13.572693%,66.004944%,51.681519%);stop-opacity:1;\"/>\n<stop offset=\"0.605469\" style=\"stop-color:rgb(13.856506%,66.365051%,51.469421%);stop-opacity:1;\"/>\n<stop offset=\"0.609375\" style=\"stop-color:rgb(14.14032%,66.725159%,51.257324%);stop-opacity:1;\"/>\n<stop offset=\"0.613281\" style=\"stop-color:rgb(14.466858%,67.082214%,51.029968%);stop-opacity:1;\"/>\n<stop offset=\"0.617188\" style=\"stop-color:rgb(14.794922%,67.440796%,50.804138%);stop-opacity:1;\"/>\n<stop offset=\"0.621094\" style=\"stop-color:rgb(15.16571%,67.796326%,50.563049%);stop-opacity:1;\"/>\n<stop offset=\"0.625\" style=\"stop-color:rgb(15.536499%,68.151855%,50.323486%);stop-opacity:1;\"/>\n<stop offset=\"0.628906\" style=\"stop-color:rgb(15.948486%,68.505859%,50.07019%);stop-opacity:1;\"/>\n<stop offset=\"0.632812\" style=\"stop-color:rgb(16.360474%,68.859863%,49.816895%);stop-opacity:1;\"/>\n<stop offset=\"0.636719\" style=\"stop-color:rgb(16.810608%,69.210815%,49.54834%);stop-opacity:1;\"/>\n<stop offset=\"0.640625\" style=\"stop-color:rgb(17.262268%,69.563293%,49.281311%);stop-opacity:1;\"/>\n<stop offset=\"0.644531\" style=\"stop-color:rgb(17.752075%,69.911194%,48.999023%);stop-opacity:1;\"/>\n<stop offset=\"0.648438\" style=\"stop-color:rgb(18.243408%,70.26062%,48.716736%);stop-opacity:1;\"/>\n<stop offset=\"0.652344\" style=\"stop-color:rgb(18.768311%,70.606995%,48.419189%);stop-opacity:1;\"/>\n<stop offset=\"0.65625\" style=\"stop-color:rgb(19.294739%,70.953369%,48.123169%);stop-opacity:1;\"/>\n<stop offset=\"0.660156\" style=\"stop-color:rgb(19.854736%,71.296692%,47.81189%);stop-opacity:1;\"/>\n<stop offset=\"0.664062\" style=\"stop-color:rgb(20.414734%,71.640015%,47.50061%);stop-opacity:1;\"/>\n<stop offset=\"0.667969\" style=\"stop-color:rgb(21.005249%,71.980286%,47.174072%);stop-opacity:1;\"/>\n<stop offset=\"0.671875\" style=\"stop-color:rgb(21.59729%,72.320557%,46.84906%);stop-opacity:1;\"/>\n<stop offset=\"0.675781\" style=\"stop-color:rgb(22.219849%,72.65625%,46.507263%);stop-opacity:1;\"/>\n<stop offset=\"0.679687\" style=\"stop-color:rgb(22.842407%,72.993469%,46.165466%);stop-opacity:1;\"/>\n<stop offset=\"0.683594\" style=\"stop-color:rgb(23.492432%,73.326111%,45.809937%);stop-opacity:1;\"/>\n<stop offset=\"0.6875\" style=\"stop-color:rgb(24.143982%,73.660278%,45.454407%);stop-opacity:1;\"/>\n<stop offset=\"0.691406\" style=\"stop-color:rgb(24.821472%,73.989868%,45.083618%);stop-opacity:1;\"/>\n<stop offset=\"0.695313\" style=\"stop-color:rgb(25.498962%,74.319458%,44.71283%);stop-opacity:1;\"/>\n<stop offset=\"0.699219\" style=\"stop-color:rgb(26.200867%,74.64447%,44.325256%);stop-opacity:1;\"/>\n<stop offset=\"0.703125\" style=\"stop-color:rgb(26.904297%,74.969482%,43.939209%);stop-opacity:1;\"/>\n<stop offset=\"0.707031\" style=\"stop-color:rgb(27.632141%,75.289917%,43.537903%);stop-opacity:1;\"/>\n<stop offset=\"0.710938\" style=\"stop-color:rgb(28.359985%,75.610352%,43.136597%);stop-opacity:1;\"/>\n<stop offset=\"0.714844\" style=\"stop-color:rgb(29.109192%,75.926208%,42.718506%);stop-opacity:1;\"/>\n<stop offset=\"0.71875\" style=\"stop-color:rgb(29.859924%,76.243591%,42.301941%);stop-opacity:1;\"/>\n<stop offset=\"0.722656\" style=\"stop-color:rgb(30.632019%,76.553345%,41.870117%);stop-opacity:1;\"/>\n<stop offset=\"0.726562\" style=\"stop-color:rgb(31.404114%,76.864624%,41.438293%);stop-opacity:1;\"/>\n<stop offset=\"0.730469\" style=\"stop-color:rgb(32.197571%,77.171326%,40.991211%);stop-opacity:1;\"/>\n<stop offset=\"0.734375\" style=\"stop-color:rgb(32.991028%,77.478027%,40.544128%);stop-opacity:1;\"/>\n<stop offset=\"0.738281\" style=\"stop-color:rgb(33.804321%,77.7771%,40.080261%);stop-opacity:1;\"/>\n<stop offset=\"0.742188\" style=\"stop-color:rgb(34.617615%,78.077698%,39.616394%);stop-opacity:1;\"/>\n<stop offset=\"0.746094\" style=\"stop-color:rgb(35.449219%,78.372192%,39.138794%);stop-opacity:1;\"/>\n<stop offset=\"0.75\" style=\"stop-color:rgb(36.282349%,78.668213%,38.661194%);stop-opacity:1;\"/>\n<stop offset=\"0.753906\" style=\"stop-color:rgb(37.132263%,78.956604%,38.166809%);stop-opacity:1;\"/>\n<stop offset=\"0.757812\" style=\"stop-color:rgb(37.983704%,79.244995%,37.672424%);stop-opacity:1;\"/>\n<stop offset=\"0.761719\" style=\"stop-color:rgb(38.851929%,79.527283%,37.162781%);stop-opacity:1;\"/>\n<stop offset=\"0.765625\" style=\"stop-color:rgb(39.720154%,79.811096%,36.654663%);stop-opacity:1;\"/>\n<stop offset=\"0.769531\" style=\"stop-color:rgb(40.605164%,80.08728%,36.129761%);stop-opacity:1;\"/>\n<stop offset=\"0.773437\" style=\"stop-color:rgb(41.491699%,80.363464%,35.606384%);stop-opacity:1;\"/>\n<stop offset=\"0.777344\" style=\"stop-color:rgb(42.391968%,80.633545%,35.067749%);stop-opacity:1;\"/>\n<stop offset=\"0.78125\" style=\"stop-color:rgb(43.293762%,80.903625%,34.529114%);stop-opacity:1;\"/>\n<stop offset=\"0.785156\" style=\"stop-color:rgb(44.210815%,81.166077%,33.97522%);stop-opacity:1;\"/>\n<stop offset=\"0.789062\" style=\"stop-color:rgb(45.129395%,81.430054%,33.421326%);stop-opacity:1;\"/>\n<stop offset=\"0.792969\" style=\"stop-color:rgb(46.060181%,81.684875%,32.852173%);stop-opacity:1;\"/>\n<stop offset=\"0.796875\" style=\"stop-color:rgb(46.992493%,81.941223%,32.28302%);stop-opacity:1;\"/>\n<stop offset=\"0.800781\" style=\"stop-color:rgb(47.938538%,82.189941%,31.700134%);stop-opacity:1;\"/>\n<stop offset=\"0.804687\" style=\"stop-color:rgb(48.886108%,82.43866%,31.117249%);stop-opacity:1;\"/>\n<stop offset=\"0.808594\" style=\"stop-color:rgb(49.84436%,82.679749%,30.52063%);stop-opacity:1;\"/>\n<stop offset=\"0.8125\" style=\"stop-color:rgb(50.804138%,82.920837%,29.924011%);stop-opacity:1;\"/>\n<stop offset=\"0.816406\" style=\"stop-color:rgb(51.776123%,83.154297%,29.31366%);stop-opacity:1;\"/>\n<stop offset=\"0.820312\" style=\"stop-color:rgb(52.749634%,83.389282%,28.703308%);stop-opacity:1;\"/>\n<stop offset=\"0.824219\" style=\"stop-color:rgb(53.733826%,83.615112%,28.079224%);stop-opacity:1;\"/>\n<stop offset=\"0.828125\" style=\"stop-color:rgb(54.718018%,83.840942%,27.455139%);stop-opacity:1;\"/>\n<stop offset=\"0.832031\" style=\"stop-color:rgb(55.712891%,84.057617%,26.818848%);stop-opacity:1;\"/>\n<stop offset=\"0.835938\" style=\"stop-color:rgb(56.70929%,84.275818%,26.184082%);stop-opacity:1;\"/>\n<stop offset=\"0.839844\" style=\"stop-color:rgb(57.714844%,84.486389%,25.535583%);stop-opacity:1;\"/>\n<stop offset=\"0.84375\" style=\"stop-color:rgb(58.721924%,84.69696%,24.888611%);stop-opacity:1;\"/>\n<stop offset=\"0.847656\" style=\"stop-color:rgb(59.736633%,84.898376%,24.230957%);stop-opacity:1;\"/>\n<stop offset=\"0.851562\" style=\"stop-color:rgb(60.751343%,85.101318%,23.574829%);stop-opacity:1;\"/>\n<stop offset=\"0.855469\" style=\"stop-color:rgb(61.773682%,85.295105%,22.90802%);stop-opacity:1;\"/>\n<stop offset=\"0.859375\" style=\"stop-color:rgb(62.797546%,85.488892%,22.242737%);stop-opacity:1;\"/>\n<stop offset=\"0.863281\" style=\"stop-color:rgb(63.827515%,85.675049%,21.569824%);stop-opacity:1;\"/>\n<stop offset=\"0.867188\" style=\"stop-color:rgb(64.859009%,85.862732%,20.896912%);stop-opacity:1;\"/>\n<stop offset=\"0.871094\" style=\"stop-color:rgb(65.895081%,86.04126%,20.220947%);stop-opacity:1;\"/>\n<stop offset=\"0.875\" style=\"stop-color:rgb(66.931152%,86.219788%,19.546509%);stop-opacity:1;\"/>\n<stop offset=\"0.878906\" style=\"stop-color:rgb(67.971802%,86.390686%,18.870544%);stop-opacity:1;\"/>\n<stop offset=\"0.882812\" style=\"stop-color:rgb(69.012451%,86.56311%,18.19458%);stop-opacity:1;\"/>\n<stop offset=\"0.886719\" style=\"stop-color:rgb(70.056152%,86.726379%,17.524719%);stop-opacity:1;\"/>\n<stop offset=\"0.890625\" style=\"stop-color:rgb(71.099854%,86.889648%,16.854858%);stop-opacity:1;\"/>\n<stop offset=\"0.894531\" style=\"stop-color:rgb(72.145081%,87.046814%,16.197205%);stop-opacity:1;\"/>\n<stop offset=\"0.898437\" style=\"stop-color:rgb(73.191833%,87.205505%,15.541077%);stop-opacity:1;\"/>\n<stop offset=\"0.902344\" style=\"stop-color:rgb(74.235535%,87.356567%,14.903259%);stop-opacity:1;\"/>\n<stop offset=\"0.90625\" style=\"stop-color:rgb(75.280762%,87.507629%,14.266968%);stop-opacity:1;\"/>\n<stop offset=\"0.910156\" style=\"stop-color:rgb(76.324463%,87.652588%,13.664246%);stop-opacity:1;\"/>\n<stop offset=\"0.914063\" style=\"stop-color:rgb(77.36969%,87.797546%,13.063049%);stop-opacity:1;\"/>\n<stop offset=\"0.917969\" style=\"stop-color:rgb(78.410339%,87.936401%,12.512207%);stop-opacity:1;\"/>\n<stop offset=\"0.921875\" style=\"stop-color:rgb(79.452515%,88.076782%,11.962891%);stop-opacity:1;\"/>\n<stop offset=\"0.925781\" style=\"stop-color:rgb(80.488586%,88.21106%,11.485291%);stop-opacity:1;\"/>\n<stop offset=\"0.929688\" style=\"stop-color:rgb(81.524658%,88.346863%,11.00769%);stop-opacity:1;\"/>\n<stop offset=\"0.933594\" style=\"stop-color:rgb(82.554626%,88.478088%,10.627747%);stop-opacity:1;\"/>\n<stop offset=\"0.9375\" style=\"stop-color:rgb(83.586121%,88.609314%,10.247803%);stop-opacity:1;\"/>\n<stop offset=\"0.941406\" style=\"stop-color:rgb(84.608459%,88.737488%,9.992981%);stop-opacity:1;\"/>\n<stop offset=\"0.945312\" style=\"stop-color:rgb(85.630798%,88.865662%,9.738159%);stop-opacity:1;\"/>\n<stop offset=\"0.949219\" style=\"stop-color:rgb(86.643982%,88.990784%,9.631348%);stop-opacity:1;\"/>\n<stop offset=\"0.953125\" style=\"stop-color:rgb(87.658691%,89.117432%,9.524536%);stop-opacity:1;\"/>\n<stop offset=\"0.957031\" style=\"stop-color:rgb(88.661194%,89.241028%,9.580994%);stop-opacity:1;\"/>\n<stop offset=\"0.960938\" style=\"stop-color:rgb(89.665222%,89.36615%,9.638977%);stop-opacity:1;\"/>\n<stop offset=\"0.964844\" style=\"stop-color:rgb(90.657043%,89.48822%,9.858704%);stop-opacity:1;\"/>\n<stop offset=\"0.96875\" style=\"stop-color:rgb(91.648865%,89.611816%,10.079956%);stop-opacity:1;\"/>\n<stop offset=\"0.972656\" style=\"stop-color:rgb(92.626953%,89.735413%,10.449219%);stop-opacity:1;\"/>\n<stop offset=\"0.976562\" style=\"stop-color:rgb(93.606567%,89.859009%,10.820007%);stop-opacity:1;\"/>\n<stop offset=\"0.980469\" style=\"stop-color:rgb(94.572449%,89.982605%,11.31897%);stop-opacity:1;\"/>\n<stop offset=\"0.984375\" style=\"stop-color:rgb(95.539856%,90.106201%,11.817932%);stop-opacity:1;\"/>\n<stop offset=\"0.988281\" style=\"stop-color:rgb(96.490479%,90.232849%,12.420654%);stop-opacity:1;\"/>\n<stop offset=\"0.992187\" style=\"stop-color:rgb(97.442627%,90.359497%,13.023376%);stop-opacity:1;\"/>\n<stop offset=\"0.996094\" style=\"stop-color:rgb(98.381042%,90.486145%,13.705444%);stop-opacity:1;\"/>\n<stop offset=\"1\" style=\"stop-color:rgb(99.320984%,90.614319%,14.389038%);stop-opacity:1;\"/>\n</linearGradient>\n</defs>\n<g id=\"surface1\">\n<g clip-path=\"url(#clip-1649198310112839-1)\" clip-rule=\"nonzero\">\n<use xlink:href=\"#image-1649198310112839-5\" transform=\"matrix(0.682719,0,0,0.682709,36.219644,6.708953)\"/>\n</g>\n<path style=\"fill:none;stroke-width:0.19925;stroke-linecap:butt;stroke-linejoin:miter;stroke:rgb(50%,50%,50%);stroke-opacity:1;stroke-miterlimit:10;\" d=\"M 12.457882 -0.000582123 L 12.457882 4.251722 M 34.280359 -0.000582123 L 34.280359 4.251722 M 56.102836 -0.000582123 L 56.102836 4.251722 M 12.457882 68.554084 L 12.457882 64.301781 M 34.280359 68.554084 L 34.280359 64.301781 M 56.102836 68.554084 L 56.102836 64.301781 \" transform=\"matrix(0.995784,0,0,-0.995784,36.219644,74.979889)\"/>\n<path style=\"fill:none;stroke-width:0.19925;stroke-linecap:butt;stroke-linejoin:miter;stroke:rgb(50%,50%,50%);stroke-opacity:1;stroke-miterlimit:10;\" d=\"M -0.000897351 -0.000582123 L 4.251406 -0.000582123 M -0.000897351 17.138084 L 4.251406 17.138084 M -0.000897351 34.276751 L 4.251406 34.276751 M -0.000897351 51.415418 L 4.251406 51.415418 M -0.000897351 68.554084 L 4.251406 68.554084 M 68.557692 -0.000582123 L 64.305388 -0.000582123 M 68.557692 17.138084 L 64.305388 17.138084 M 68.557692 34.276751 L 64.305388 34.276751 M 68.557692 51.415418 L 64.305388 51.415418 M 68.557692 68.554084 L 64.305388 68.554084 \" transform=\"matrix(0.995784,0,0,-0.995784,36.219644,74.979889)\"/>\n<path style=\"fill:none;stroke-width:0.3985;stroke-linecap:butt;stroke-linejoin:miter;stroke:rgb(0%,0%,0%);stroke-opacity:1;stroke-miterlimit:10;\" d=\"M -0.000897351 -0.000582123 L -0.000897351 68.554084 L 68.557692 68.554084 L 68.557692 -0.000582123 Z M -0.000897351 -0.000582123 \" transform=\"matrix(0.995784,0,0,-0.995784,36.219644,74.979889)\"/>\n<g style=\"fill:rgb(0%,0%,0%);fill-opacity:1;\">\n  <use xlink:href=\"#glyph-1649198310112839-0-1\" x=\"38.427296\" y=\"84.87798\"/>\n</g>\n<g style=\"fill:rgb(0%,0%,0%);fill-opacity:1;\">\n  <use xlink:href=\"#glyph-1649198310112839-1-1\" x=\"46.143625\" y=\"84.87798\"/>\n</g>\n<g style=\"fill:rgb(0%,0%,0%);fill-opacity:1;\">\n  <use xlink:href=\"#glyph-1649198310112839-2-1\" x=\"51.103624\" y=\"84.87798\"/>\n</g>\n<g style=\"fill:rgb(0%,0%,0%);fill-opacity:1;\">\n  <use xlink:href=\"#glyph-1649198310112839-1-2\" x=\"53.858958\" y=\"84.87798\"/>\n</g>\n<g style=\"fill:rgb(0%,0%,0%);fill-opacity:1;\">\n  <use xlink:href=\"#glyph-1649198310112839-1-1\" x=\"67.873618\" y=\"84.87798\"/>\n</g>\n<g style=\"fill:rgb(0%,0%,0%);fill-opacity:1;\">\n  <use xlink:href=\"#glyph-1649198310112839-1-1\" x=\"85.745946\" y=\"84.87798\"/>\n</g>\n<g style=\"fill:rgb(0%,0%,0%);fill-opacity:1;\">\n  <use xlink:href=\"#glyph-1649198310112839-2-1\" x=\"90.705945\" y=\"84.87798\"/>\n</g>\n<g style=\"fill:rgb(0%,0%,0%);fill-opacity:1;\">\n  <use xlink:href=\"#glyph-1649198310112839-1-2\" x=\"93.461279\" y=\"84.87798\"/>\n</g>\n<g style=\"fill:rgb(0%,0%,0%);fill-opacity:1;\">\n  <use xlink:href=\"#glyph-1649198310112839-0-1\" x=\"20.038157\" y=\"77.763105\"/>\n</g>\n<g style=\"fill:rgb(0%,0%,0%);fill-opacity:1;\">\n  <use xlink:href=\"#glyph-1649198310112839-1-3\" x=\"27.754486\" y=\"77.763105\"/>\n</g>\n<g style=\"fill:rgb(0%,0%,0%);fill-opacity:1;\">\n  <use xlink:href=\"#glyph-1649198310112839-0-1\" x=\"20.038157\" y=\"60.697362\"/>\n</g>\n<g style=\"fill:rgb(0%,0%,0%);fill-opacity:1;\">\n  <use xlink:href=\"#glyph-1649198310112839-1-4\" x=\"27.754486\" y=\"60.697362\"/>\n</g>\n<g style=\"fill:rgb(0%,0%,0%);fill-opacity:1;\">\n  <use xlink:href=\"#glyph-1649198310112839-1-1\" x=\"27.754486\" y=\"44.043874\"/>\n</g>\n<g style=\"fill:rgb(0%,0%,0%);fill-opacity:1;\">\n  <use xlink:href=\"#glyph-1649198310112839-1-4\" x=\"27.754486\" y=\"26.978132\"/>\n</g>\n<g style=\"fill:rgb(0%,0%,0%);fill-opacity:1;\">\n  <use xlink:href=\"#glyph-1649198310112839-1-3\" x=\"27.754486\" y=\"9.911394\"/>\n</g>\n<g style=\"fill:rgb(0%,0%,0%);fill-opacity:1;\">\n  <use xlink:href=\"#glyph-1649198310112839-2-2\" x=\"55.193308\" y=\"99.957134\"/>\n</g>\n<g style=\"fill:rgb(0%,0%,0%);fill-opacity:1;\">\n  <use xlink:href=\"#glyph-1649198310112839-3-1\" x=\"63.430431\" y=\"99.957134\"/>\n  <use xlink:href=\"#glyph-1649198310112839-3-2\" x=\"67.289558\" y=\"99.957134\"/>\n  <use xlink:href=\"#glyph-1649198310112839-3-3\" x=\"71.178447\" y=\"99.957134\"/>\n  <use xlink:href=\"#glyph-1649198310112839-3-4\" x=\"76.138765\" y=\"99.957134\"/>\n  <use xlink:href=\"#glyph-1649198310112839-3-5\" x=\"81.654638\" y=\"99.957134\"/>\n</g>\n<g style=\"fill:rgb(0%,0%,0%);fill-opacity:1;\">\n  <use xlink:href=\"#glyph-1649198310112839-4-1\" x=\"10.746499\" y=\"61.24106\"/>\n</g>\n<g style=\"fill:rgb(0%,0%,0%);fill-opacity:1;\">\n  <use xlink:href=\"#glyph-1649198310112839-5-1\" x=\"10.746499\" y=\"51.405704\"/>\n  <use xlink:href=\"#glyph-1649198310112839-5-2\" x=\"10.746499\" y=\"47.546577\"/>\n  <use xlink:href=\"#glyph-1649198310112839-5-3\" x=\"10.746499\" y=\"43.657688\"/>\n  <use xlink:href=\"#glyph-1649198310112839-5-4\" x=\"10.746499\" y=\"38.69737\"/>\n  <use xlink:href=\"#glyph-1649198310112839-5-5\" x=\"10.746499\" y=\"33.181497\"/>\n  <use xlink:href=\"#glyph-1649198310112839-5-6\" x=\"10.746499\" y=\"28.221179\"/>\n  <use xlink:href=\"#glyph-1649198310112839-5-7\" x=\"10.746499\" y=\"24.312449\"/>\n</g>\n<g clip-path=\"url(#clip-1649198310112839-2)\" clip-rule=\"nonzero\">\n<path style=\" stroke:none;fill-rule:nonzero;fill:url(#linear-1649198310112839-0);\" d=\"M 113.152344 74.980469 L 113.152344 6.726562 L 127.265625 6.726562 L 127.265625 74.980469 Z M 113.152344 74.980469 \"/>\n</g>\n<path style=\"fill:none;stroke-width:0.19925;stroke-linecap:butt;stroke-linejoin:miter;stroke:rgb(50%,50%,50%);stroke-opacity:1;stroke-miterlimit:10;\" d=\"M -0.00156154 -0.000582123 L 4.250742 -0.000582123 M -0.00156154 13.709567 L 4.250742 13.709567 M -0.00156154 27.423638 L 4.250742 27.423638 M -0.00156154 41.133787 L 4.250742 41.133787 M -0.00156154 54.843935 L 4.250742 54.843935 M -0.00156154 68.554084 L 4.250742 68.554084 M 14.171476 -0.000582123 L 9.919173 -0.000582123 M 14.171476 13.709567 L 9.919173 13.709567 M 14.171476 27.423638 L 9.919173 27.423638 M 14.171476 41.133787 L 9.919173 41.133787 M 14.171476 54.843935 L 9.919173 54.843935 M 14.171476 68.554084 L 9.919173 68.554084 \" transform=\"matrix(0.995784,0,0,-0.995784,113.153899,74.979889)\"/>\n<path style=\"fill:none;stroke-width:0.3985;stroke-linecap:butt;stroke-linejoin:miter;stroke:rgb(0%,0%,0%);stroke-opacity:1;stroke-miterlimit:10;\" d=\"M -0.00156154 -0.000582123 L -0.00156154 68.554084 L 14.171476 68.554084 L 14.171476 -0.000582123 Z M -0.00156154 -0.000582123 \" transform=\"matrix(0.995784,0,0,-0.995784,113.153899,74.979889)\"/>\n<g style=\"fill:rgb(0%,0%,0%);fill-opacity:1;\">\n  <use xlink:href=\"#glyph-1649198310112839-1-1\" x=\"130.771305\" y=\"78.176355\"/>\n</g>\n<g style=\"fill:rgb(0%,0%,0%);fill-opacity:1;\">\n  <use xlink:href=\"#glyph-1649198310112839-1-1\" x=\"130.771305\" y=\"64.524159\"/>\n</g>\n<g style=\"fill:rgb(0%,0%,0%);fill-opacity:1;\">\n  <use xlink:href=\"#glyph-1649198310112839-2-1\" x=\"135.7323\" y=\"64.524159\"/>\n</g>\n<g style=\"fill:rgb(0%,0%,0%);fill-opacity:1;\">\n  <use xlink:href=\"#glyph-1649198310112839-1-3\" x=\"138.487634\" y=\"64.524159\"/>\n</g>\n<g style=\"fill:rgb(0%,0%,0%);fill-opacity:1;\">\n  <use xlink:href=\"#glyph-1649198310112839-1-1\" x=\"130.771305\" y=\"50.870968\"/>\n</g>\n<g style=\"fill:rgb(0%,0%,0%);fill-opacity:1;\">\n  <use xlink:href=\"#glyph-1649198310112839-2-1\" x=\"135.7323\" y=\"50.870968\"/>\n</g>\n<g style=\"fill:rgb(0%,0%,0%);fill-opacity:1;\">\n  <use xlink:href=\"#glyph-1649198310112839-1-5\" x=\"138.487634\" y=\"50.870968\"/>\n</g>\n<g style=\"fill:rgb(0%,0%,0%);fill-opacity:1;\">\n  <use xlink:href=\"#glyph-1649198310112839-1-1\" x=\"130.771305\" y=\"37.217776\"/>\n</g>\n<g style=\"fill:rgb(0%,0%,0%);fill-opacity:1;\">\n  <use xlink:href=\"#glyph-1649198310112839-2-1\" x=\"135.7323\" y=\"37.217776\"/>\n</g>\n<g style=\"fill:rgb(0%,0%,0%);fill-opacity:1;\">\n  <use xlink:href=\"#glyph-1649198310112839-1-6\" x=\"138.487634\" y=\"37.217776\"/>\n</g>\n<g style=\"fill:rgb(0%,0%,0%);fill-opacity:1;\">\n  <use xlink:href=\"#glyph-1649198310112839-1-1\" x=\"130.771305\" y=\"23.564585\"/>\n</g>\n<g style=\"fill:rgb(0%,0%,0%);fill-opacity:1;\">\n  <use xlink:href=\"#glyph-1649198310112839-2-1\" x=\"135.7323\" y=\"23.564585\"/>\n</g>\n<g style=\"fill:rgb(0%,0%,0%);fill-opacity:1;\">\n  <use xlink:href=\"#glyph-1649198310112839-1-7\" x=\"138.487634\" y=\"23.564585\"/>\n</g>\n<g style=\"fill:rgb(0%,0%,0%);fill-opacity:1;\">\n  <use xlink:href=\"#glyph-1649198310112839-1-4\" x=\"130.771305\" y=\"9.911394\"/>\n</g>\n</g>\n</svg>\n\n",
      "text/plain": [
       "Axis(PGFPlots.Plots.Plot[PGFPlots.Plots.Image(\"tmp_10000000000066.png\", -0.7853981633974483, 0.7853981633974483, -2, 2, 0.0, 0.45188280922469604, nothing, true, nothing, PGFPlots.ColorMaps.RGBArrayMap(RGB{Float64}[RGB{Float64}(0.267004,0.004874,0.329415), RGB{Float64}(0.26851,0.009605,0.335427), RGB{Float64}(0.269944,0.014625,0.341379), RGB{Float64}(0.271305,0.019942,0.347269), RGB{Float64}(0.272594,0.025563,0.353093), RGB{Float64}(0.273809,0.031497,0.358853), RGB{Float64}(0.274952,0.037752,0.364543), RGB{Float64}(0.276022,0.044167,0.370164), RGB{Float64}(0.277018,0.050344,0.375715), RGB{Float64}(0.277941,0.056324,0.381191)  …  RGB{Float64}(0.906311,0.894855,0.098125), RGB{Float64}(0.916242,0.896091,0.100717), RGB{Float64}(0.926106,0.89733,0.104071), RGB{Float64}(0.935904,0.89857,0.108131), RGB{Float64}(0.945636,0.899815,0.112838), RGB{Float64}(0.9553,0.901065,0.118128), RGB{Float64}(0.964894,0.902323,0.123941), RGB{Float64}(0.974417,0.90359,0.130215), RGB{Float64}(0.983868,0.904867,0.136897), RGB{Float64}(0.993248,0.906157,0.143936)], 0x00000000000001f4), nothing, nothing)], nothing, L\"$\\theta$ (rad)\", nothing, L\"$\\omega$ (rad/s)\", nothing, nothing, nothing, nothing, nothing, nothing, nothing, nothing, nothing, nothing, nothing, nothing, \"4cm\", \"4cm\", nothing, nothing, nothing, nothing, nothing, nothing, nothing, nothing, nothing, \"axis\")"
      ]
     },
     "execution_count": 125,
     "metadata": {},
     "output_type": "execute_result"
    }
   ],
   "source": [
    "ax1 = Axis(Plots.Image((x, y) -> risk_weight([x, y], α=0), (-π / 4, π / 4), (-2, 2),\n",
    "    colormap=pasteljet))\n",
    "ax1.xlabel = L\"$\\theta$ (rad)\"\n",
    "ax1.ylabel = L\"$\\omega$ (rad/s)\"\n",
    "ax1.height = \"4cm\"\n",
    "ax1.width = \"4cm\"\n",
    "#PGFPlots.save(\"pend_risk_weights.tex\", ax1, include_preamble=false)\n",
    "ax1"
   ]
  },
  {
   "cell_type": "code",
   "execution_count": 127,
   "metadata": {},
   "outputs": [
    {
     "data": {
      "text/plain": [
       "0.43573721475690846"
      ]
     },
     "execution_count": 127,
     "metadata": {},
     "output_type": "execute_result"
    }
   ],
   "source": [
    "maximum([risk_weight([x, y], α=0) for x in collect(0:0.1:π/4) for y in collect(0:0.1:2)])"
   ]
  },
  {
   "cell_type": "code",
   "execution_count": null,
   "metadata": {},
   "outputs": [],
   "source": []
  }
 ],
 "metadata": {
  "kernelspec": {
   "display_name": "Julia 1.6.0",
   "language": "julia",
   "name": "julia-1.6"
  },
  "language_info": {
   "file_extension": ".jl",
   "mimetype": "application/julia",
   "name": "julia",
   "version": "1.6.0"
  },
  "orig_nbformat": 4
 },
 "nbformat": 4,
 "nbformat_minor": 2
}
